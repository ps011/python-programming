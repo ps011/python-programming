{
 "cells": [
  {
   "cell_type": "code",
   "execution_count": 13,
   "metadata": {},
   "outputs": [
    {
     "name": "stdout",
     "output_type": "stream",
     "text": [
      "68.36\n"
     ]
    }
   ],
   "source": [
    "# as you increase the number of observations, the output will come closer to the expected value\n",
    "import numpy as np\n",
    "from numpy.random import randn\n",
    "\n",
    "totalObservations = 10000\n",
    "favourableObservations = 0\n",
    "\n",
    "for i in randn(totalObservations):\n",
    "    if (i > -1 and i < 1):\n",
    "        favourableObservations += 1\n",
    "\n",
    "print((favourableObservations/totalObservations) * 100)"
   ]
  },
  {
   "cell_type": "code",
   "execution_count": null,
   "metadata": {},
   "outputs": [],
   "source": []
  }
 ],
 "metadata": {
  "kernelspec": {
   "display_name": "Python 3",
   "language": "python",
   "name": "python3"
  },
  "language_info": {
   "codemirror_mode": {
    "name": "ipython",
    "version": 3
   },
   "file_extension": ".py",
   "mimetype": "text/x-python",
   "name": "python",
   "nbconvert_exporter": "python",
   "pygments_lexer": "ipython3",
   "version": "3.7.6"
  }
 },
 "nbformat": 4,
 "nbformat_minor": 4
}
