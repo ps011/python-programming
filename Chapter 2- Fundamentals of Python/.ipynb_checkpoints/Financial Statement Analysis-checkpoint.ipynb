{
 "cells": [
  {
   "cell_type": "code",
   "execution_count": 14,
   "metadata": {},
   "outputs": [
    {
     "name": "stdout",
     "output_type": "stream",
     "text": [
      "10685.581666666667\n",
      "[2522.67, 1911.3900000000003, -3707.790000000001, -2914.3099999999995, -599.9200000000001, 7265.24, 8210.550000000001, 3944.9700000000003, 3328.3899999999994, -2238.6500000000015, 659.5999999999985, 11629.54]\n",
      "----------\n",
      "[ 1765.869  1337.973 -2595.453 -2040.017  -419.944  5085.668  5747.385\n",
      "  2761.479  2329.873 -1567.055   461.72   8140.678]\n",
      "----------\n",
      "[0.1211616324138958, 0.17589956431769843, -0.3013969837692086, -0.22233524169492153, -0.052110961513404865, 0.6274388558795081, 0.49993432658216397, 0.2827619856052934, 0.2260844884001661, -0.10897492065346505, 0.04309513653668986, 0.5274680403019406]\n",
      "----------\n",
      "[]\n",
      "----------\n",
      "[0, 1, 2, 3, 4, 5, 6, 7, 8, 9, 10, 11]\n",
      "----------\n",
      "8140.678000000001\n",
      "----------\n",
      "-2595.4530000000004\n"
     ]
    }
   ],
   "source": [
    "import numpy as np\n",
    "#Data \n",
    "revenue = np.array([14574.49, 7606.46, 8611.41, 9175.41, 8058.65, 8105.44, 11496.28, 9766.09, 10305.32, 14379.96, 10713.97, 15433.50])\n",
    "expenses = np.array([12051.82, 5695.07, 12319.20, 12089.72, 8658.57, 840.20, 3285.73, 5821.12, 6976.93, 16618.61, 10054.37, 3803.96])\n",
    "\n",
    "# Profit\n",
    "profit = []\n",
    "profitAfterTax = np.empty(12)\n",
    "profitMargin = []\n",
    "goodMonths = []\n",
    "badMonths = []\n",
    "revenueMean = revenue.mean()\n",
    "print(revenueMean)\n",
    "for i in range(12):\n",
    "    amount = revenue[i] - expenses[i]\n",
    "    profit.append(amount)\n",
    "    profitAfterTax[i] = amount - (0.3 * amount)\n",
    "    profitMargin.append(profitAfterTax[i]/revenue[i])\n",
    "    if profitAfterTax[i] > revenueMean:\n",
    "        goodMonths.append(i)\n",
    "    else:\n",
    "        badMonths.append(i)\n",
    "print(profit)\n",
    "print('----------')\n",
    "print(profitAfterTax)\n",
    "print('----------')\n",
    "print(profitMargin)\n",
    "print('----------')\n",
    "print(goodMonths)\n",
    "print('----------')\n",
    "print(badMonths)\n",
    "print('----------')\n",
    "print(profitAfterTax.max())\n",
    "print('----------')\n",
    "print(profitAfterTax.min())"
   ]
  },
  {
   "cell_type": "code",
   "execution_count": null,
   "metadata": {},
   "outputs": [],
   "source": []
  }
 ],
 "metadata": {
  "kernelspec": {
   "display_name": "Python 3",
   "language": "python",
   "name": "python3"
  },
  "language_info": {
   "codemirror_mode": {
    "name": "ipython",
    "version": 3
   },
   "file_extension": ".py",
   "mimetype": "text/x-python",
   "name": "python",
   "nbconvert_exporter": "python",
   "pygments_lexer": "ipython3",
   "version": "3.7.6"
  }
 },
 "nbformat": 4,
 "nbformat_minor": 4
}
